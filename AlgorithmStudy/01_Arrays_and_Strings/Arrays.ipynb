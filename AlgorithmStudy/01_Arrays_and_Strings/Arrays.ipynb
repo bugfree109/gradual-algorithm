{
 "cells": [
  {
   "cell_type": "code",
   "execution_count": null,
   "metadata": {},
   "outputs": [],
   "source": []
  },
  {
   "cell_type": "markdown",
   "metadata": {},
   "source": [
    "\n",
    "# 1. 两数之和\n",
    "- 提示\n",
    "给定一个整数数组 nums 和一个整数目标值 target，请你在该数组中找出 和为目标值 target  的那 两个 整数，并返回它们的数组下标。\n",
    "\n",
    "你可以假设每种输入只会对应一个答案，并且你不能使用两次相同的元素。\n",
    "\n",
    "你可以按任意顺序返回答案。\n",
    "## 示例 1：\n",
    "\n",
    "输入：nums = [2,7,11,15], target = 9\n",
    "输出：[0,1]\n",
    "解释：因为 nums[0] + nums[1] == 9 ，返回 [0, 1] 。\n",
    "## 示例 2：\n",
    "\n",
    "输入：nums = [3,2,4], target = 6\n",
    "输出：[1,2]\n",
    "## 示例 3：\n",
    "\n",
    "输入：nums = [3,3], target = 6\n",
    "输出：[0,1]"
   ]
  },
  {
   "cell_type": "code",
   "execution_count": 1,
   "metadata": {},
   "outputs": [],
   "source": [
    "\n",
    "class Solution(object):\n",
    "    def twoSum(self, nums, target):\n",
    "        \"\"\"\n",
    "        :type nums: List[int]\n",
    "        :type target: int\n",
    "        :rtype: List[int]\n",
    "        \"\"\"\n",
    "        # 遍历列表\n",
    "        for i in range(len(nums)):\n",
    "            # 计算需要找到的下一个目标数字\n",
    "            res = target-nums[i]\n",
    "                # 遍历剩下的元素，查找是否存在该数字\n",
    "            if res in nums[i+1:]:\n",
    "                # 若存在，返回答案。这里由于是两数之和，可采用.index()方法\n",
    "                # 获得目标元素在nums[i+1:]这个子数组中的索引后，还需加上i+1才是该元素在nums中的索引\n",
    "                return [i, nums[i+1:].index(res)+i+1]\n"
   ]
  },
  {
   "cell_type": "markdown",
   "metadata": {},
   "source": [
    "# 344. 反转字符串\n",
    "\n",
    "- 编写一个函数，其作用是将输入的字符串反转过来。输入字符串以字符数组 s 的形式给出。不要给另外的数组分配额外的空间，你必须原地修改输入数组、使用 O(1) 的额外空间解决这一问题。\n",
    "\n",
    " \n",
    "\n",
    "- 示例 1：\n",
    "    - 输入：s = [\"h\",\"e\",\"l\",\"l\",\"o\"]\n",
    "    - 输出：[\"o\",\"l\",\"l\",\"e\",\"h\"]\n",
    "- 示例 2：\n",
    "    - 输入：s = [\"H\",\"a\",\"n\",\"n\",\"a\",\"h\"]\n",
    "    - 输出：[\"h\",\"a\",\"n\",\"n\",\"a\",\"H\"]\n",
    " \n",
    "\n",
    "- 提示：\n",
    "\n",
    "    - 1 <= s.length <= 105\n",
    "    - s[i] 都是 ASCII 码表中的可打印字符"
   ]
  },
  {
   "cell_type": "code",
   "execution_count": null,
   "metadata": {},
   "outputs": [],
   "source": [
    "class Solution:\n",
    "    def reverseString(self, s: List[str]) -> None:\n",
    "        left = 0\n",
    "        right = len(s) - 1\n",
    "        while left < right:\n",
    "            s[left], s[right] = s[right], s[left]\n",
    "            left += 1\n",
    "            right -= 1"
   ]
  },
  {
   "cell_type": "code",
   "execution_count": null,
   "metadata": {},
   "outputs": [],
   "source": [
    "class Solution:\n",
    "    def reverseString(self, s: List[str]) -> None:\n",
    "        for i in range(len(s) // 2):\n",
    "            s[i], s[-i - 1] = s[-i - 1], s[i]\n"
   ]
  },
  {
   "cell_type": "code",
   "execution_count": null,
   "metadata": {},
   "outputs": [],
   "source": [
    "class Solution:\n",
    "    def reverseString(self, s: List[str]) -> None:\n",
    "        # s[:] = s[::-1] 是切片赋值语法，表示用 s[::-1] 替换 s 中的元素。\n",
    "        # 注意不能写成 s = s[::-1]，因为 s 只是形参，修改 s 不会影响函数外部传入的实参。\n",
    "        # 注意这不是原地操作，需要 O(n) 额外空间。\n",
    "        s[:] = s[::-1]"
   ]
  },
  {
   "cell_type": "markdown",
   "metadata": {},
   "source": [
    "# 26. 删除有序数组中的重复项\n",
    "\n",
    "- 提示\n",
    "    - 给你一个 非严格递增排列 的数组 nums ，请你 原地 删除重复出现的元素，使每个元素 只出现一次 ，返回删除后数组的新长度。元素的 相对顺序 应该保持 一致 。然后返回 nums 中唯一元素的个数。考虑 nums 的唯一元素的数量为 k ，你需要做以下事情确保你的题解可以被通过：更改数组 nums ，使 nums 的前 k 个元素包含唯一元素，并按照它们最初在 nums 中出现的顺序排列。nums 的其余元素与 nums 的大小不重要。返回 k 。\n",
    "\n",
    "- 判题标准:\n",
    "\n",
    "- 系统会用下面的代码来测试你的题解:\n",
    "\n",
    "    int[] nums = [...]; // 输入数组\n",
    "    int[] expectedNums = [...]; // 长度正确的期望答案\n",
    "\n",
    "    int k = removeDuplicates(nums); // 调用\n",
    "\n",
    "    assert k == expectedNums.length;\n",
    "    for (int i = 0; i < k; i++) {\n",
    "        assert nums[i] == expectedNums[i];\n",
    "    }\n",
    "    如果所有断言都通过，那么您的题解将被 通过。\n",
    "\n",
    " \n",
    "\n",
    "- 示例 1：\n",
    "\n",
    "    输入：nums = [1,1,2]\n",
    "    输出：2, nums = [1,2,_]\n",
    "    解释：函数应该返回新的长度 2 ，并且原数组 nums 的前两个元素被修改为 1, 2 。不需要考虑数组中超出新长度后面的元素。\n",
    "- 示例 2：\n",
    "\n",
    "    输入：nums = [0,0,1,1,1,2,2,3,3,4]\n",
    "    输出：5, nums = [0,1,2,3,4]\n",
    "    解释：函数应该返回新的长度 5 ， 并且原数组 nums 的前五个元素被修改为 0, 1, 2, 3, 4 。不需要考虑数组中超出新长度后面的元素。\n",
    " \n",
    "\n",
    "- 提示：\n",
    "\n",
    "    1 <= nums.length <= 3 * 104\n",
    "    -104 <= nums[i] <= 104\n",
    "    nums 已按 非严格递增 排列"
   ]
  },
  {
   "cell_type": "code",
   "execution_count": null,
   "metadata": {},
   "outputs": [],
   "source": [
    "class Solution:\n",
    "    def removeDuplicates(self, nums: List[int]) -> int:\n",
    "        k = 1\n",
    "        for i in range(1, len(nums)):\n",
    "            if nums[i] != nums[i - 1]:  # nums[i] 不是重复项\n",
    "                nums[k] = nums[i]  # 保留 nums[i]\n",
    "                k += 1\n",
    "        return k"
   ]
  },
  {
   "cell_type": "code",
   "execution_count": null,
   "metadata": {},
   "outputs": [],
   "source": [
    "class Solution:\n",
    "    def removeDuplicates(self, nums: List[int]) -> int:\n",
    "        nums[:] = sorted(set(nums))  # 注：需要额外空间\n",
    "        return len(nums)"
   ]
  }
 ],
 "metadata": {
  "kernelspec": {
   "display_name": "aiTest",
   "language": "python",
   "name": "python3"
  },
  "language_info": {
   "codemirror_mode": {
    "name": "ipython",
    "version": 3
   },
   "file_extension": ".py",
   "mimetype": "text/x-python",
   "name": "python",
   "nbconvert_exporter": "python",
   "pygments_lexer": "ipython3",
   "version": "3.12.3"
  }
 },
 "nbformat": 4,
 "nbformat_minor": 2
}
